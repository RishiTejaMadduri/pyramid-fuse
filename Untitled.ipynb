{
 "cells": [
  {
   "cell_type": "code",
   "execution_count": 1,
   "metadata": {},
   "outputs": [],
   "source": [
    "def get_voc_palette(num_classes):\n",
    "    n = num_classes\n",
    "    palette = [0]*(n*3)\n",
    "    for j in range(0,n):\n",
    "            lab = j\n",
    "            palette[j*3+0] = 0\n",
    "            palette[j*3+1] = 0\n",
    "            palette[j*3+2] = 0\n",
    "            i = 0\n",
    "            while (lab > 0):\n",
    "                    palette[j*3+0] |= (((lab >> 0) & 1) << (7-i))\n",
    "                    palette[j*3+1] |= (((lab >> 1) & 1) << (7-i))\n",
    "                    palette[j*3+2] |= (((lab >> 2) & 1) << (7-i))\n",
    "                    i = i + 1\n",
    "                    lab >>= 3\n",
    "    return palette"
   ]
  },
  {
   "cell_type": "code",
   "execution_count": 3,
   "metadata": {},
   "outputs": [
    {
     "data": {
      "text/plain": [
       "[0,\n",
       " 0,\n",
       " 0,\n",
       " 128,\n",
       " 0,\n",
       " 0,\n",
       " 0,\n",
       " 128,\n",
       " 0,\n",
       " 128,\n",
       " 128,\n",
       " 0,\n",
       " 0,\n",
       " 0,\n",
       " 128,\n",
       " 128,\n",
       " 0,\n",
       " 128,\n",
       " 0,\n",
       " 128,\n",
       " 128,\n",
       " 128,\n",
       " 128,\n",
       " 128,\n",
       " 64,\n",
       " 0,\n",
       " 0,\n",
       " 192,\n",
       " 0,\n",
       " 0,\n",
       " 64,\n",
       " 128,\n",
       " 0,\n",
       " 192,\n",
       " 128,\n",
       " 0,\n",
       " 64,\n",
       " 0,\n",
       " 128,\n",
       " 192,\n",
       " 0,\n",
       " 128,\n",
       " 64,\n",
       " 128,\n",
       " 128,\n",
       " 192,\n",
       " 128,\n",
       " 128,\n",
       " 0,\n",
       " 64,\n",
       " 0,\n",
       " 128,\n",
       " 64,\n",
       " 0,\n",
       " 0,\n",
       " 192,\n",
       " 0,\n",
       " 128,\n",
       " 192,\n",
       " 0,\n",
       " 0,\n",
       " 64,\n",
       " 128]"
      ]
     },
     "execution_count": 3,
     "metadata": {},
     "output_type": "execute_result"
    }
   ],
   "source": [
    "get_voc_palette(21)"
   ]
  },
  {
   "cell_type": "code",
   "execution_count": null,
   "metadata": {},
   "outputs": [],
   "source": []
  }
 ],
 "metadata": {
  "kernelspec": {
   "display_name": "Python 3",
   "language": "python",
   "name": "python3"
  },
  "language_info": {
   "codemirror_mode": {
    "name": "ipython",
    "version": 3
   },
   "file_extension": ".py",
   "mimetype": "text/x-python",
   "name": "python",
   "nbconvert_exporter": "python",
   "pygments_lexer": "ipython3",
   "version": "3.6.9"
  }
 },
 "nbformat": 4,
 "nbformat_minor": 4
}

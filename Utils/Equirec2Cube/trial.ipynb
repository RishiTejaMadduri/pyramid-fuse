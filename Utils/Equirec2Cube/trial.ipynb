{
 "cells": [
  {
   "cell_type": "code",
   "execution_count": 3,
   "metadata": {},
   "outputs": [],
   "source": [
    "import numpy as np\n",
    "import cv2 as cv2\n",
    "import torch\n",
    "import torch.nn.functional as F\n",
    "from torch.autograd import Variable\n",
    "import math"
   ]
  },
  {
   "cell_type": "code",
   "execution_count": 2,
   "metadata": {},
   "outputs": [],
   "source": [
    "R_lst = []\n",
    "theta_lst = np.array([-90, 0, 90, 180], np.float) / 180 * np.pi\n",
    "phi_lst = np.array([90, -90], np.float) / 180 * np.pi"
   ]
  },
  {
   "cell_type": "code",
   "execution_count": 3,
   "metadata": {},
   "outputs": [
    {
     "name": "stdout",
     "output_type": "stream",
     "text": [
      "angle_axis for theta\n",
      "[-0.         -1.57079633 -0.        ]\n",
      "[0. 0. 0.]\n",
      "[0.         1.57079633 0.        ]\n",
      "[0.         3.14159265 0.        ]\n",
      "angle_axis for phi\n",
      "[1.57079633 0.         0.        ]\n",
      "[-1.57079633 -0.         -0.        ]\n"
     ]
    },
    {
     "data": {
      "text/plain": [
       "6"
      ]
     },
     "execution_count": 3,
     "metadata": {},
     "output_type": "execute_result"
    }
   ],
   "source": [
    "print(\"angle_axis for theta\")\n",
    "for theta in theta_lst:\n",
    "    angle_axis = theta * np.array([0, 1, 0], np.float)\n",
    "    print(angle_axis)\n",
    "    R = cv2.Rodrigues(angle_axis)[0]\n",
    "    R_lst.append(R)\n",
    "    \n",
    "print(\"angle_axis for phi\")\n",
    "for phi in phi_lst:\n",
    "    angle_axis = phi * np.array([1, 0, 0], np.float)\n",
    "    print(angle_axis)\n",
    "    R = cv2.Rodrigues(angle_axis)[0]\n",
    "    R_lst.append(R)\n",
    "    \n",
    "len(R_lst)"
   ]
  },
  {
   "cell_type": "code",
   "execution_count": 4,
   "metadata": {},
   "outputs": [
    {
     "data": {
      "text/plain": [
       "6"
      ]
     },
     "execution_count": 4,
     "metadata": {},
     "output_type": "execute_result"
    }
   ],
   "source": [
    "R_lst = [Variable(torch.FloatTensor(x)) for x in R_lst]\n",
    "len(R_lst)"
   ]
  },
  {
   "cell_type": "code",
   "execution_count": 6,
   "metadata": {},
   "outputs": [],
   "source": [
    "output_w = 1024\n",
    "theta_start = math.pi - (math.pi / output_w)\n",
    "theta_end = -math.pi\n",
    "theta_step = 2 * math.pi / output_w\n",
    "theta_range = torch.arange(theta_start, theta_end, -theta_step)"
   ]
  },
  {
   "cell_type": "code",
   "execution_count": 10,
   "metadata": {},
   "outputs": [
    {
     "data": {
      "text/plain": [
       "1024"
      ]
     },
     "execution_count": 10,
     "metadata": {},
     "output_type": "execute_result"
    }
   ],
   "source": [
    "len(theta_range)"
   ]
  },
  {
   "cell_type": "code",
   "execution_count": 11,
   "metadata": {},
   "outputs": [],
   "source": [
    "output_h = 512\n",
    "phi_start = 0.5 * math.pi - (0.5 * math.pi / output_h)\n",
    "phi_end = -0.5 * math.pi\n",
    "phi_step = math.pi / output_h\n",
    "phi_range = torch.arange(phi_start, phi_end, -phi_step)"
   ]
  },
  {
   "cell_type": "code",
   "execution_count": 20,
   "metadata": {
    "scrolled": false
   },
   "outputs": [
    {
     "data": {
      "text/plain": [
       "512"
      ]
     },
     "execution_count": 20,
     "metadata": {},
     "output_type": "execute_result"
    }
   ],
   "source": [
    "len(phi_range)"
   ]
  },
  {
   "cell_type": "code",
   "execution_count": 14,
   "metadata": {},
   "outputs": [],
   "source": [
    "theta_map = theta_range.unsqueeze(0).repeat(output_h, 1)\n",
    "phi_map = phi_range.unsqueeze(-1).repeat(1, output_w)\n",
    "lonlat_map = torch.stack([theta_map, phi_map], dim=-1)"
   ]
  },
  {
   "cell_type": "code",
   "execution_count": 16,
   "metadata": {},
   "outputs": [
    {
     "data": {
      "text/plain": [
       "torch.Size([512, 1024])"
      ]
     },
     "execution_count": 16,
     "metadata": {},
     "output_type": "execute_result"
    }
   ],
   "source": [
    "theta_map.shape"
   ]
  },
  {
   "cell_type": "code",
   "execution_count": 17,
   "metadata": {},
   "outputs": [
    {
     "data": {
      "text/plain": [
       "torch.Size([512, 1024])"
      ]
     },
     "execution_count": 17,
     "metadata": {},
     "output_type": "execute_result"
    }
   ],
   "source": [
    "phi_map.shape"
   ]
  },
  {
   "cell_type": "code",
   "execution_count": 21,
   "metadata": {},
   "outputs": [
    {
     "data": {
      "text/plain": [
       "torch.Size([512, 1024, 2])"
      ]
     },
     "execution_count": 21,
     "metadata": {},
     "output_type": "execute_result"
    }
   ],
   "source": [
    "lonlat_map.shape"
   ]
  },
  {
   "cell_type": "code",
   "execution_count": 25,
   "metadata": {},
   "outputs": [],
   "source": [
    "t = torch.rand(4, 4)\n",
    "b = t.view(2, 8,1)"
   ]
  },
  {
   "cell_type": "code",
   "execution_count": 27,
   "metadata": {},
   "outputs": [
    {
     "data": {
      "text/plain": [
       "torch.Size([2, 8, 1])"
      ]
     },
     "execution_count": 27,
     "metadata": {},
     "output_type": "execute_result"
    }
   ],
   "source": [
    "b.shape"
   ]
  },
  {
   "cell_type": "code",
   "execution_count": 28,
   "metadata": {},
   "outputs": [
    {
     "data": {
      "text/plain": [
       "tensor([[0.0030, 0.6587, 0.5860, 0.6310],\n",
       "        [0.3428, 0.0345, 0.3218, 0.6838],\n",
       "        [0.2435, 0.3161, 0.8659, 0.4954],\n",
       "        [0.3181, 0.7337, 0.8286, 0.2703]])"
      ]
     },
     "execution_count": 28,
     "metadata": {},
     "output_type": "execute_result"
    }
   ],
   "source": [
    "t"
   ]
  },
  {
   "cell_type": "code",
   "execution_count": 30,
   "metadata": {},
   "outputs": [],
   "source": [
    "radius = 128\n",
    "x_3d = (radius * torch.cos(phi_map) * torch.sin(theta_map)).view(output_h, output_w, 1)\n",
    "y_3d = (radius * torch.sin(phi_map)).view(output_h, output_w, 1)\n",
    "z_3d = (radius * torch.cos(phi_map) * torch.cos(theta_map)).view(output_h, output_w, 1)"
   ]
  },
  {
   "cell_type": "code",
   "execution_count": 32,
   "metadata": {},
   "outputs": [
    {
     "data": {
      "text/plain": [
       "torch.Size([512, 1024, 1])"
      ]
     },
     "execution_count": 32,
     "metadata": {},
     "output_type": "execute_result"
    }
   ],
   "source": [
    "x_3d.shape"
   ]
  },
  {
   "cell_type": "code",
   "execution_count": 33,
   "metadata": {},
   "outputs": [],
   "source": [
    "grid_ball = torch.cat([x_3d, y_3d, z_3d], 2).view(output_h, output_w, 3)"
   ]
  },
  {
   "cell_type": "code",
   "execution_count": 35,
   "metadata": {},
   "outputs": [
    {
     "data": {
      "text/plain": [
       "torch.Size([512, 1024, 3])"
      ]
     },
     "execution_count": 35,
     "metadata": {},
     "output_type": "execute_result"
    }
   ],
   "source": [
    "grid_ball.shape"
   ]
  },
  {
   "cell_type": "code",
   "execution_count": 36,
   "metadata": {},
   "outputs": [],
   "source": [
    "# Compute the down grid\n",
    "radius_ratio_down = torch.abs(y_3d / radius)\n",
    "grid_down_raw = grid_ball / radius_ratio_down.view(output_h, output_w, 1).expand(-1, -1, 3)\n",
    "grid_down_w = (-grid_down_raw[:, :, 0].clone() / radius).unsqueeze(-1)\n",
    "grid_down_h = (-grid_down_raw[:, :, 2].clone() / radius).unsqueeze(-1)\n",
    "grid_down = torch.cat([grid_down_w, grid_down_h], 2).unsqueeze(0)\n",
    "mask_down = (((grid_down_w <= 1) * (grid_down_w >= -1)) * ((grid_down_h <= 1) * (grid_down_h >= -1)) *\n",
    "            (grid_down_raw[:, :, 1] == -radius).unsqueeze(2)).float()"
   ]
  },
  {
   "cell_type": "code",
   "execution_count": 43,
   "metadata": {},
   "outputs": [
    {
     "data": {
      "text/plain": [
       "torch.Size([512, 1024, 1])"
      ]
     },
     "execution_count": 43,
     "metadata": {},
     "output_type": "execute_result"
    }
   ],
   "source": [
    "grid_down_h.shape"
   ]
  },
  {
   "cell_type": "code",
   "execution_count": 45,
   "metadata": {},
   "outputs": [],
   "source": [
    "radius_ratio_up = torch.abs(y_3d / radius)\n",
    "grid_up_raw = grid_ball / radius_ratio_up.view(output_h, output_w, 1).expand(-1, -1, 3)\n",
    "grid_up_w = (-grid_up_raw[:, :, 0].clone() / radius).unsqueeze(-1)\n",
    "grid_up_h = (grid_up_raw[:, :, 2].clone() / radius).unsqueeze(-1)\n",
    "grid_up = torch.cat([grid_up_w, grid_up_h], 2).unsqueeze(0)\n",
    "mask_up = (((grid_up_w <= 1) * (grid_up_w >= -1)) * ((grid_up_h <= 1) * (grid_up_h >= -1)) *\n",
    "          (grid_up_raw[:, :, 1] == radius).unsqueeze(2)).float()"
   ]
  },
  {
   "cell_type": "code",
   "execution_count": 54,
   "metadata": {},
   "outputs": [
    {
     "data": {
      "text/plain": [
       "torch.Size([512, 1024, 1])"
      ]
     },
     "execution_count": 54,
     "metadata": {},
     "output_type": "execute_result"
    }
   ],
   "source": [
    "mask_up.shape"
   ]
  },
  {
   "cell_type": "code",
   "execution_count": null,
   "metadata": {},
   "outputs": [],
   "source": []
  }
 ],
 "metadata": {
  "kernelspec": {
   "display_name": "Python 3",
   "language": "python",
   "name": "python3"
  },
  "language_info": {
   "codemirror_mode": {
    "name": "ipython",
    "version": 3
   },
   "file_extension": ".py",
   "mimetype": "text/x-python",
   "name": "python",
   "nbconvert_exporter": "python",
   "pygments_lexer": "ipython3",
   "version": "3.6.9"
  }
 },
 "nbformat": 4,
 "nbformat_minor": 4
}

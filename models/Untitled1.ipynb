{
 "cells": [
  {
   "cell_type": "code",
   "execution_count": 1,
   "metadata": {},
   "outputs": [],
   "source": [
    "import torch\n",
    "import torch.nn as nn\n",
    "import torch.nn.functional as F\n",
    "import torchvision.models\n",
    "import collections\n",
    "import math\n",
    "import sys\n",
    "sys.path.append(\"/home/rishi/Projects/Pyramid-fuse/\")\n",
    "# sys.setrecursionlimit(10000000)\n",
    "import Utils\n",
    "from Utils.CubePad import CustomPad\n",
    "image_path = '/home/rishi/Projects/Pyramid-fuse/Sample.jpg'"
   ]
  },
  {
   "cell_type": "code",
   "execution_count": 2,
   "metadata": {},
   "outputs": [],
   "source": [
    "import numpy as np"
   ]
  },
  {
   "cell_type": "code",
   "execution_count": 3,
   "metadata": {},
   "outputs": [],
   "source": [
    "from PIL import Image\n",
    "import cv2"
   ]
  },
  {
   "cell_type": "code",
   "execution_count": 4,
   "metadata": {},
   "outputs": [
    {
     "data": {
      "text/plain": [
       "(1, 3, 1024, 2048)"
      ]
     },
     "execution_count": 4,
     "metadata": {},
     "output_type": "execute_result"
    }
   ],
   "source": [
    "img = np.asarray(Image.open(image_path), dtype=np.float32)\n",
    "img=img.transpose(2,0,1)\n",
    "img=np.expand_dims(img,0)\n",
    "img.shape"
   ]
  },
  {
   "cell_type": "code",
   "execution_count": 5,
   "metadata": {},
   "outputs": [],
   "source": [
    "class CETransform(nn.Module):\n",
    "    def __init__(self):\n",
    "        super(CETransform, self).__init__()\n",
    "        equ_h = [512, 128, 64, 32, 16]\n",
    "        cube_h = [256, 64, 32, 16, 8]\n",
    "\n",
    "        self.c2e = dict()\n",
    "        self.e2c = dict()\n",
    "\n",
    "        for h in equ_h:\n",
    "            a = Utils.Equirec2Cube(1, h, h*2, h//2, 90)\n",
    "            self.e2c['(%d,%d)' % (h, h*2)] = a\n",
    "\n",
    "        for h in cube_h:\n",
    "            a = Utils.Cube2Equirec(1, h, h*2, h*4)\n",
    "            self.c2e['(%d)' % (h)] = a\n",
    "\n",
    "    def E2C(self, x):\n",
    "        print(x.shape)\n",
    "        [bs, c, h, w] = x.shape\n",
    "        key = '(%d,%d)' % (h, w)\n",
    "        print(key)\n",
    "        assert key in self.e2c\n",
    "        return self.e2c[key].ToCubeTensor(x)\n",
    "\n",
    "    def C2E(self, x):\n",
    "        print(x.shape)\n",
    "        [bs, c, h, w] = x.shape\n",
    "        key = '(%d)' % (h)\n",
    "        assert key in self.c2e and h == w\n",
    "        return self.c2e[key].ToEquirecTensor(x)\n",
    "\n",
    "    def forward(self, equi, cube):\n",
    "        return self.e2c(equi), self.c2e(cube)\n"
   ]
  },
  {
   "cell_type": "code",
   "execution_count": 6,
   "metadata": {},
   "outputs": [],
   "source": [
    "mypad = getattr(Utils.CubePad, 'SpherePad')"
   ]
  },
  {
   "cell_type": "code",
   "execution_count": 7,
   "metadata": {},
   "outputs": [],
   "source": [
    "ce = CETransform()"
   ]
  },
  {
   "cell_type": "code",
   "execution_count": 8,
   "metadata": {},
   "outputs": [],
   "source": [
    "img1 = torch.rand((1,3,512,1024)).cuda()"
   ]
  },
  {
   "cell_type": "code",
   "execution_count": 9,
   "metadata": {},
   "outputs": [
    {
     "data": {
      "text/plain": [
       "torch.Size([1, 3, 512, 1024])"
      ]
     },
     "execution_count": 9,
     "metadata": {},
     "output_type": "execute_result"
    }
   ],
   "source": [
    "img1.shape"
   ]
  },
  {
   "cell_type": "code",
   "execution_count": 10,
   "metadata": {},
   "outputs": [
    {
     "name": "stdout",
     "output_type": "stream",
     "text": [
      "torch.Size([1, 3, 512, 1024])\n",
      "(512,1024)\n"
     ]
    },
    {
     "name": "stderr",
     "output_type": "stream",
     "text": [
      "/home/rishi/.local/lib/python3.6/site-packages/torch/nn/functional.py:3226: UserWarning: Default grid_sample and affine_grid behavior has changed to align_corners=False since 1.3.0. Please specify align_corners=True if the old behavior is desired. See the documentation of grid_sample for details.\n",
      "  warnings.warn(\"Default grid_sample and affine_grid behavior has changed \"\n"
     ]
    }
   ],
   "source": [
    "test = ce.E2C(img1)"
   ]
  },
  {
   "cell_type": "code",
   "execution_count": 11,
   "metadata": {},
   "outputs": [
    {
     "name": "stdout",
     "output_type": "stream",
     "text": [
      "torch.Size([6, 3, 256, 256])\n"
     ]
    }
   ],
   "source": [
    "test2 = ce.C2E(test)"
   ]
  },
  {
   "cell_type": "code",
   "execution_count": null,
   "metadata": {},
   "outputs": [],
   "source": []
  }
 ],
 "metadata": {
  "kernelspec": {
   "display_name": "Python 3",
   "language": "python",
   "name": "python3"
  },
  "language_info": {
   "codemirror_mode": {
    "name": "ipython",
    "version": 3
   },
   "file_extension": ".py",
   "mimetype": "text/x-python",
   "name": "python",
   "nbconvert_exporter": "python",
   "pygments_lexer": "ipython3",
   "version": "3.6.9"
  }
 },
 "nbformat": 4,
 "nbformat_minor": 4
}
